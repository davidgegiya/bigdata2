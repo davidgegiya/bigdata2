{
 "cells": [
  {
   "cell_type": "code",
   "id": "initial_id",
   "metadata": {
    "collapsed": true,
    "ExecuteTime": {
     "start_time": "2024-10-01T13:48:32.093816Z"
    }
   },
   "source": [
    "from sklearn.preprocessing import OneHotEncoder\n",
    "# Импортируем необходимые библиотеки\n",
    "import pandas as pd\n",
    "import numpy as np\n",
    "from sklearn.manifold import TSNE\n",
    "import matplotlib.pyplot as plt\n",
    "from umap import umap_ as UMAP\n",
    "from sklearn.preprocessing import StandardScaler\n",
    "from sklearn.utils import gen_batches\n",
    "\n",
    "# Загрузка данных из CSV файла\n",
    "data = pd.read_csv('mammoth.csv')  # Укажите путь к вашему CSV файлу\n",
    "\n",
    "X = data[['x', 'y', 'z']]\n",
    "print(1)\n",
    "# Преобразование категориальных признаков в числовые с помощью One-Hot Encoding\n",
    "encoder = OneHotEncoder(sparse_output=False)\n",
    "X_encoded = encoder.fit_transform(X)\n",
    "print(2)\n",
    "\n",
    "batch_size = 10000\n",
    "scaler = StandardScaler()\n",
    "\n",
    "# Применяем partial_fit для поэтапной обработки\n",
    "for batch in gen_batches(len(data), batch_size):\n",
    "    scaler.partial_fit(data[batch])\n",
    "print(2.1)\n",
    "\n",
    "# После поэтапной обработки масштабируем данные\n",
    "X_scaled = scaler.transform(data)\n",
    "\n",
    "print(3)\n",
    "\n",
    "reducer = UMAP.UMAP(n_neighbors=15, min_dist=0.1)\n",
    "X_umap = reducer.fit_transform(X_scaled)\n",
    "print(4)\n",
    "\n",
    "\n",
    "# Шаг 3: Визуализация результатов\n",
    "plt.figure(figsize=(8, 6))\n",
    "plt.scatter(X_umap[:, 0], X_umap[:, 1], c='blue', label='Data points')  # Все точки будут синими\n",
    "plt.title('t-SNE Visualization of 3D Data to 2D')\n",
    "plt.xlabel('t-SNE Component 1')\n",
    "plt.ylabel('t-SNE Component 2')\n",
    "plt.legend()\n",
    "plt.show()"
   ],
   "outputs": [
    {
     "name": "stderr",
     "output_type": "stream",
     "text": [
      "/Users/davitgegia/study/9sem/python/1/pythonProject/.venv/lib/python3.9/site-packages/tqdm/auto.py:21: TqdmWarning: IProgress not found. Please update jupyter and ipywidgets. See https://ipywidgets.readthedocs.io/en/stable/user_install.html\n",
      "  from .autonotebook import tqdm as notebook_tqdm\n"
     ]
    },
    {
     "name": "stdout",
     "output_type": "stream",
     "text": [
      "1\n",
      "2\n",
      "2.1\n",
      "3\n"
     ]
    },
    {
     "ename": "KeyboardInterrupt",
     "evalue": "",
     "output_type": "error",
     "traceback": [
      "\u001B[0;31m---------------------------------------------------------------------------\u001B[0m",
      "\u001B[0;31mKeyboardInterrupt\u001B[0m                         Traceback (most recent call last)",
      "Cell \u001B[0;32mIn[1], line 35\u001B[0m\n\u001B[1;32m     32\u001B[0m \u001B[38;5;28mprint\u001B[39m(\u001B[38;5;241m3\u001B[39m)\n\u001B[1;32m     34\u001B[0m reducer \u001B[38;5;241m=\u001B[39m UMAP\u001B[38;5;241m.\u001B[39mUMAP(n_neighbors\u001B[38;5;241m=\u001B[39m\u001B[38;5;241m15\u001B[39m, min_dist\u001B[38;5;241m=\u001B[39m\u001B[38;5;241m0.1\u001B[39m)\n\u001B[0;32m---> 35\u001B[0m X_umap \u001B[38;5;241m=\u001B[39m \u001B[43mreducer\u001B[49m\u001B[38;5;241;43m.\u001B[39;49m\u001B[43mfit_transform\u001B[49m\u001B[43m(\u001B[49m\u001B[43mX_scaled\u001B[49m\u001B[43m)\u001B[49m\n\u001B[1;32m     36\u001B[0m \u001B[38;5;28mprint\u001B[39m(\u001B[38;5;241m4\u001B[39m)\n\u001B[1;32m     39\u001B[0m \u001B[38;5;66;03m# Шаг 3: Визуализация результатов\u001B[39;00m\n",
      "File \u001B[0;32m~/study/9sem/python/1/pythonProject/.venv/lib/python3.9/site-packages/umap/umap_.py:2891\u001B[0m, in \u001B[0;36mUMAP.fit_transform\u001B[0;34m(self, X, y, force_all_finite)\u001B[0m\n\u001B[1;32m   2855\u001B[0m \u001B[38;5;28;01mdef\u001B[39;00m \u001B[38;5;21mfit_transform\u001B[39m(\u001B[38;5;28mself\u001B[39m, X, y\u001B[38;5;241m=\u001B[39m\u001B[38;5;28;01mNone\u001B[39;00m, force_all_finite\u001B[38;5;241m=\u001B[39m\u001B[38;5;28;01mTrue\u001B[39;00m):\n\u001B[1;32m   2856\u001B[0m \u001B[38;5;250m    \u001B[39m\u001B[38;5;124;03m\"\"\"Fit X into an embedded space and return that transformed\u001B[39;00m\n\u001B[1;32m   2857\u001B[0m \u001B[38;5;124;03m    output.\u001B[39;00m\n\u001B[1;32m   2858\u001B[0m \n\u001B[0;32m   (...)\u001B[0m\n\u001B[1;32m   2889\u001B[0m \u001B[38;5;124;03m        Local radii of data points in the embedding (log-transformed).\u001B[39;00m\n\u001B[1;32m   2890\u001B[0m \u001B[38;5;124;03m    \"\"\"\u001B[39;00m\n\u001B[0;32m-> 2891\u001B[0m     \u001B[38;5;28;43mself\u001B[39;49m\u001B[38;5;241;43m.\u001B[39;49m\u001B[43mfit\u001B[49m\u001B[43m(\u001B[49m\u001B[43mX\u001B[49m\u001B[43m,\u001B[49m\u001B[43m \u001B[49m\u001B[43my\u001B[49m\u001B[43m,\u001B[49m\u001B[43m \u001B[49m\u001B[43mforce_all_finite\u001B[49m\u001B[43m)\u001B[49m\n\u001B[1;32m   2892\u001B[0m     \u001B[38;5;28;01mif\u001B[39;00m \u001B[38;5;28mself\u001B[39m\u001B[38;5;241m.\u001B[39mtransform_mode \u001B[38;5;241m==\u001B[39m \u001B[38;5;124m\"\u001B[39m\u001B[38;5;124membedding\u001B[39m\u001B[38;5;124m\"\u001B[39m:\n\u001B[1;32m   2893\u001B[0m         \u001B[38;5;28;01mif\u001B[39;00m \u001B[38;5;28mself\u001B[39m\u001B[38;5;241m.\u001B[39moutput_dens:\n",
      "File \u001B[0;32m~/study/9sem/python/1/pythonProject/.venv/lib/python3.9/site-packages/umap/umap_.py:2784\u001B[0m, in \u001B[0;36mUMAP.fit\u001B[0;34m(self, X, y, force_all_finite)\u001B[0m\n\u001B[1;32m   2780\u001B[0m \u001B[38;5;28;01mif\u001B[39;00m \u001B[38;5;28mself\u001B[39m\u001B[38;5;241m.\u001B[39mtransform_mode \u001B[38;5;241m==\u001B[39m \u001B[38;5;124m\"\u001B[39m\u001B[38;5;124membedding\u001B[39m\u001B[38;5;124m\"\u001B[39m:\n\u001B[1;32m   2781\u001B[0m     epochs \u001B[38;5;241m=\u001B[39m (\n\u001B[1;32m   2782\u001B[0m         \u001B[38;5;28mself\u001B[39m\u001B[38;5;241m.\u001B[39mn_epochs_list \u001B[38;5;28;01mif\u001B[39;00m \u001B[38;5;28mself\u001B[39m\u001B[38;5;241m.\u001B[39mn_epochs_list \u001B[38;5;129;01mis\u001B[39;00m \u001B[38;5;129;01mnot\u001B[39;00m \u001B[38;5;28;01mNone\u001B[39;00m \u001B[38;5;28;01melse\u001B[39;00m \u001B[38;5;28mself\u001B[39m\u001B[38;5;241m.\u001B[39mn_epochs\n\u001B[1;32m   2783\u001B[0m     )\n\u001B[0;32m-> 2784\u001B[0m     \u001B[38;5;28mself\u001B[39m\u001B[38;5;241m.\u001B[39membedding_, aux_data \u001B[38;5;241m=\u001B[39m \u001B[38;5;28;43mself\u001B[39;49m\u001B[38;5;241;43m.\u001B[39;49m\u001B[43m_fit_embed_data\u001B[49m\u001B[43m(\u001B[49m\n\u001B[1;32m   2785\u001B[0m \u001B[43m        \u001B[49m\u001B[38;5;28;43mself\u001B[39;49m\u001B[38;5;241;43m.\u001B[39;49m\u001B[43m_raw_data\u001B[49m\u001B[43m[\u001B[49m\u001B[43mindex\u001B[49m\u001B[43m]\u001B[49m\u001B[43m,\u001B[49m\n\u001B[1;32m   2786\u001B[0m \u001B[43m        \u001B[49m\u001B[43mepochs\u001B[49m\u001B[43m,\u001B[49m\n\u001B[1;32m   2787\u001B[0m \u001B[43m        \u001B[49m\u001B[43minit\u001B[49m\u001B[43m,\u001B[49m\n\u001B[1;32m   2788\u001B[0m \u001B[43m        \u001B[49m\u001B[43mrandom_state\u001B[49m\u001B[43m,\u001B[49m\u001B[43m  \u001B[49m\u001B[38;5;66;43;03m# JH why raw data?\u001B[39;49;00m\n\u001B[1;32m   2789\u001B[0m \u001B[43m    \u001B[49m\u001B[43m)\u001B[49m\n\u001B[1;32m   2791\u001B[0m     \u001B[38;5;28;01mif\u001B[39;00m \u001B[38;5;28mself\u001B[39m\u001B[38;5;241m.\u001B[39mn_epochs_list \u001B[38;5;129;01mis\u001B[39;00m \u001B[38;5;129;01mnot\u001B[39;00m \u001B[38;5;28;01mNone\u001B[39;00m:\n\u001B[1;32m   2792\u001B[0m         \u001B[38;5;28;01mif\u001B[39;00m \u001B[38;5;124m\"\u001B[39m\u001B[38;5;124membedding_list\u001B[39m\u001B[38;5;124m\"\u001B[39m \u001B[38;5;129;01mnot\u001B[39;00m \u001B[38;5;129;01min\u001B[39;00m aux_data:\n",
      "File \u001B[0;32m~/study/9sem/python/1/pythonProject/.venv/lib/python3.9/site-packages/umap/umap_.py:2830\u001B[0m, in \u001B[0;36mUMAP._fit_embed_data\u001B[0;34m(self, X, n_epochs, init, random_state)\u001B[0m\n\u001B[1;32m   2826\u001B[0m \u001B[38;5;28;01mdef\u001B[39;00m \u001B[38;5;21m_fit_embed_data\u001B[39m(\u001B[38;5;28mself\u001B[39m, X, n_epochs, init, random_state):\n\u001B[1;32m   2827\u001B[0m \u001B[38;5;250m    \u001B[39m\u001B[38;5;124;03m\"\"\"A method wrapper for simplicial_set_embedding that can be\u001B[39;00m\n\u001B[1;32m   2828\u001B[0m \u001B[38;5;124;03m    replaced by subclasses.\u001B[39;00m\n\u001B[1;32m   2829\u001B[0m \u001B[38;5;124;03m    \"\"\"\u001B[39;00m\n\u001B[0;32m-> 2830\u001B[0m     \u001B[38;5;28;01mreturn\u001B[39;00m \u001B[43msimplicial_set_embedding\u001B[49m\u001B[43m(\u001B[49m\n\u001B[1;32m   2831\u001B[0m \u001B[43m        \u001B[49m\u001B[43mX\u001B[49m\u001B[43m,\u001B[49m\n\u001B[1;32m   2832\u001B[0m \u001B[43m        \u001B[49m\u001B[38;5;28;43mself\u001B[39;49m\u001B[38;5;241;43m.\u001B[39;49m\u001B[43mgraph_\u001B[49m\u001B[43m,\u001B[49m\n\u001B[1;32m   2833\u001B[0m \u001B[43m        \u001B[49m\u001B[38;5;28;43mself\u001B[39;49m\u001B[38;5;241;43m.\u001B[39;49m\u001B[43mn_components\u001B[49m\u001B[43m,\u001B[49m\n\u001B[1;32m   2834\u001B[0m \u001B[43m        \u001B[49m\u001B[38;5;28;43mself\u001B[39;49m\u001B[38;5;241;43m.\u001B[39;49m\u001B[43m_initial_alpha\u001B[49m\u001B[43m,\u001B[49m\n\u001B[1;32m   2835\u001B[0m \u001B[43m        \u001B[49m\u001B[38;5;28;43mself\u001B[39;49m\u001B[38;5;241;43m.\u001B[39;49m\u001B[43m_a\u001B[49m\u001B[43m,\u001B[49m\n\u001B[1;32m   2836\u001B[0m \u001B[43m        \u001B[49m\u001B[38;5;28;43mself\u001B[39;49m\u001B[38;5;241;43m.\u001B[39;49m\u001B[43m_b\u001B[49m\u001B[43m,\u001B[49m\n\u001B[1;32m   2837\u001B[0m \u001B[43m        \u001B[49m\u001B[38;5;28;43mself\u001B[39;49m\u001B[38;5;241;43m.\u001B[39;49m\u001B[43mrepulsion_strength\u001B[49m\u001B[43m,\u001B[49m\n\u001B[1;32m   2838\u001B[0m \u001B[43m        \u001B[49m\u001B[38;5;28;43mself\u001B[39;49m\u001B[38;5;241;43m.\u001B[39;49m\u001B[43mnegative_sample_rate\u001B[49m\u001B[43m,\u001B[49m\n\u001B[1;32m   2839\u001B[0m \u001B[43m        \u001B[49m\u001B[43mn_epochs\u001B[49m\u001B[43m,\u001B[49m\n\u001B[1;32m   2840\u001B[0m \u001B[43m        \u001B[49m\u001B[43minit\u001B[49m\u001B[43m,\u001B[49m\n\u001B[1;32m   2841\u001B[0m \u001B[43m        \u001B[49m\u001B[43mrandom_state\u001B[49m\u001B[43m,\u001B[49m\n\u001B[1;32m   2842\u001B[0m \u001B[43m        \u001B[49m\u001B[38;5;28;43mself\u001B[39;49m\u001B[38;5;241;43m.\u001B[39;49m\u001B[43m_input_distance_func\u001B[49m\u001B[43m,\u001B[49m\n\u001B[1;32m   2843\u001B[0m \u001B[43m        \u001B[49m\u001B[38;5;28;43mself\u001B[39;49m\u001B[38;5;241;43m.\u001B[39;49m\u001B[43m_metric_kwds\u001B[49m\u001B[43m,\u001B[49m\n\u001B[1;32m   2844\u001B[0m \u001B[43m        \u001B[49m\u001B[38;5;28;43mself\u001B[39;49m\u001B[38;5;241;43m.\u001B[39;49m\u001B[43mdensmap\u001B[49m\u001B[43m,\u001B[49m\n\u001B[1;32m   2845\u001B[0m \u001B[43m        \u001B[49m\u001B[38;5;28;43mself\u001B[39;49m\u001B[38;5;241;43m.\u001B[39;49m\u001B[43m_densmap_kwds\u001B[49m\u001B[43m,\u001B[49m\n\u001B[1;32m   2846\u001B[0m \u001B[43m        \u001B[49m\u001B[38;5;28;43mself\u001B[39;49m\u001B[38;5;241;43m.\u001B[39;49m\u001B[43moutput_dens\u001B[49m\u001B[43m,\u001B[49m\n\u001B[1;32m   2847\u001B[0m \u001B[43m        \u001B[49m\u001B[38;5;28;43mself\u001B[39;49m\u001B[38;5;241;43m.\u001B[39;49m\u001B[43m_output_distance_func\u001B[49m\u001B[43m,\u001B[49m\n\u001B[1;32m   2848\u001B[0m \u001B[43m        \u001B[49m\u001B[38;5;28;43mself\u001B[39;49m\u001B[38;5;241;43m.\u001B[39;49m\u001B[43m_output_metric_kwds\u001B[49m\u001B[43m,\u001B[49m\n\u001B[1;32m   2849\u001B[0m \u001B[43m        \u001B[49m\u001B[38;5;28;43mself\u001B[39;49m\u001B[38;5;241;43m.\u001B[39;49m\u001B[43moutput_metric\u001B[49m\u001B[43m \u001B[49m\u001B[38;5;129;43;01min\u001B[39;49;00m\u001B[43m \u001B[49m\u001B[43m(\u001B[49m\u001B[38;5;124;43m\"\u001B[39;49m\u001B[38;5;124;43meuclidean\u001B[39;49m\u001B[38;5;124;43m\"\u001B[39;49m\u001B[43m,\u001B[49m\u001B[43m \u001B[49m\u001B[38;5;124;43m\"\u001B[39;49m\u001B[38;5;124;43ml2\u001B[39;49m\u001B[38;5;124;43m\"\u001B[39;49m\u001B[43m)\u001B[49m\u001B[43m,\u001B[49m\n\u001B[1;32m   2850\u001B[0m \u001B[43m        \u001B[49m\u001B[38;5;28;43mself\u001B[39;49m\u001B[38;5;241;43m.\u001B[39;49m\u001B[43mrandom_state\u001B[49m\u001B[43m \u001B[49m\u001B[38;5;129;43;01mis\u001B[39;49;00m\u001B[43m \u001B[49m\u001B[38;5;28;43;01mNone\u001B[39;49;00m\u001B[43m,\u001B[49m\n\u001B[1;32m   2851\u001B[0m \u001B[43m        \u001B[49m\u001B[38;5;28;43mself\u001B[39;49m\u001B[38;5;241;43m.\u001B[39;49m\u001B[43mverbose\u001B[49m\u001B[43m,\u001B[49m\n\u001B[1;32m   2852\u001B[0m \u001B[43m        \u001B[49m\u001B[43mtqdm_kwds\u001B[49m\u001B[38;5;241;43m=\u001B[39;49m\u001B[38;5;28;43mself\u001B[39;49m\u001B[38;5;241;43m.\u001B[39;49m\u001B[43mtqdm_kwds\u001B[49m\u001B[43m,\u001B[49m\n\u001B[1;32m   2853\u001B[0m \u001B[43m    \u001B[49m\u001B[43m)\u001B[49m\n",
      "File \u001B[0;32m~/study/9sem/python/1/pythonProject/.venv/lib/python3.9/site-packages/umap/umap_.py:1107\u001B[0m, in \u001B[0;36msimplicial_set_embedding\u001B[0;34m(data, graph, n_components, initial_alpha, a, b, gamma, negative_sample_rate, n_epochs, init, random_state, metric, metric_kwds, densmap, densmap_kwds, output_dens, output_metric, output_metric_kwds, euclidean_output, parallel, verbose, tqdm_kwds)\u001B[0m\n\u001B[1;32m   1103\u001B[0m     embedding \u001B[38;5;241m=\u001B[39m noisy_scale_coords(\n\u001B[1;32m   1104\u001B[0m         embedding, random_state, max_coord\u001B[38;5;241m=\u001B[39m\u001B[38;5;241m10\u001B[39m, noise\u001B[38;5;241m=\u001B[39m\u001B[38;5;241m0.0001\u001B[39m\n\u001B[1;32m   1105\u001B[0m     )\n\u001B[1;32m   1106\u001B[0m \u001B[38;5;28;01melif\u001B[39;00m \u001B[38;5;28misinstance\u001B[39m(init, \u001B[38;5;28mstr\u001B[39m) \u001B[38;5;129;01mand\u001B[39;00m init \u001B[38;5;241m==\u001B[39m \u001B[38;5;124m\"\u001B[39m\u001B[38;5;124mspectral\u001B[39m\u001B[38;5;124m\"\u001B[39m:\n\u001B[0;32m-> 1107\u001B[0m     embedding \u001B[38;5;241m=\u001B[39m \u001B[43mspectral_layout\u001B[49m\u001B[43m(\u001B[49m\n\u001B[1;32m   1108\u001B[0m \u001B[43m        \u001B[49m\u001B[43mdata\u001B[49m\u001B[43m,\u001B[49m\n\u001B[1;32m   1109\u001B[0m \u001B[43m        \u001B[49m\u001B[43mgraph\u001B[49m\u001B[43m,\u001B[49m\n\u001B[1;32m   1110\u001B[0m \u001B[43m        \u001B[49m\u001B[43mn_components\u001B[49m\u001B[43m,\u001B[49m\n\u001B[1;32m   1111\u001B[0m \u001B[43m        \u001B[49m\u001B[43mrandom_state\u001B[49m\u001B[43m,\u001B[49m\n\u001B[1;32m   1112\u001B[0m \u001B[43m        \u001B[49m\u001B[43mmetric\u001B[49m\u001B[38;5;241;43m=\u001B[39;49m\u001B[43mmetric\u001B[49m\u001B[43m,\u001B[49m\n\u001B[1;32m   1113\u001B[0m \u001B[43m        \u001B[49m\u001B[43mmetric_kwds\u001B[49m\u001B[38;5;241;43m=\u001B[39;49m\u001B[43mmetric_kwds\u001B[49m\u001B[43m,\u001B[49m\n\u001B[1;32m   1114\u001B[0m \u001B[43m    \u001B[49m\u001B[43m)\u001B[49m\n\u001B[1;32m   1115\u001B[0m     \u001B[38;5;66;03m# We add a little noise to avoid local minima for optimization to come\u001B[39;00m\n\u001B[1;32m   1116\u001B[0m     embedding \u001B[38;5;241m=\u001B[39m noisy_scale_coords(\n\u001B[1;32m   1117\u001B[0m         embedding, random_state, max_coord\u001B[38;5;241m=\u001B[39m\u001B[38;5;241m10\u001B[39m, noise\u001B[38;5;241m=\u001B[39m\u001B[38;5;241m0.0001\u001B[39m\n\u001B[1;32m   1118\u001B[0m     )\n",
      "File \u001B[0;32m~/study/9sem/python/1/pythonProject/.venv/lib/python3.9/site-packages/umap/spectral.py:304\u001B[0m, in \u001B[0;36mspectral_layout\u001B[0;34m(data, graph, dim, random_state, metric, metric_kwds, tol, maxiter)\u001B[0m\n\u001B[1;32m    263\u001B[0m \u001B[38;5;28;01mdef\u001B[39;00m \u001B[38;5;21mspectral_layout\u001B[39m(\n\u001B[1;32m    264\u001B[0m     data,\n\u001B[1;32m    265\u001B[0m     graph,\n\u001B[0;32m   (...)\u001B[0m\n\u001B[1;32m    271\u001B[0m     maxiter\u001B[38;5;241m=\u001B[39m\u001B[38;5;241m0\u001B[39m\n\u001B[1;32m    272\u001B[0m ):\n\u001B[1;32m    273\u001B[0m \u001B[38;5;250m    \u001B[39m\u001B[38;5;124;03m\"\"\"\u001B[39;00m\n\u001B[1;32m    274\u001B[0m \u001B[38;5;124;03m    Given a graph compute the spectral embedding of the graph. This is\u001B[39;00m\n\u001B[1;32m    275\u001B[0m \u001B[38;5;124;03m    simply the eigenvectors of the laplacian of the graph. Here we use the\u001B[39;00m\n\u001B[0;32m   (...)\u001B[0m\n\u001B[1;32m    302\u001B[0m \u001B[38;5;124;03m        The spectral embedding of the graph.\u001B[39;00m\n\u001B[1;32m    303\u001B[0m \u001B[38;5;124;03m    \"\"\"\u001B[39;00m\n\u001B[0;32m--> 304\u001B[0m     \u001B[38;5;28;01mreturn\u001B[39;00m \u001B[43m_spectral_layout\u001B[49m\u001B[43m(\u001B[49m\n\u001B[1;32m    305\u001B[0m \u001B[43m        \u001B[49m\u001B[43mdata\u001B[49m\u001B[38;5;241;43m=\u001B[39;49m\u001B[43mdata\u001B[49m\u001B[43m,\u001B[49m\n\u001B[1;32m    306\u001B[0m \u001B[43m        \u001B[49m\u001B[43mgraph\u001B[49m\u001B[38;5;241;43m=\u001B[39;49m\u001B[43mgraph\u001B[49m\u001B[43m,\u001B[49m\n\u001B[1;32m    307\u001B[0m \u001B[43m        \u001B[49m\u001B[43mdim\u001B[49m\u001B[38;5;241;43m=\u001B[39;49m\u001B[43mdim\u001B[49m\u001B[43m,\u001B[49m\n\u001B[1;32m    308\u001B[0m \u001B[43m        \u001B[49m\u001B[43mrandom_state\u001B[49m\u001B[38;5;241;43m=\u001B[39;49m\u001B[43mrandom_state\u001B[49m\u001B[43m,\u001B[49m\n\u001B[1;32m    309\u001B[0m \u001B[43m        \u001B[49m\u001B[43mmetric\u001B[49m\u001B[38;5;241;43m=\u001B[39;49m\u001B[43mmetric\u001B[49m\u001B[43m,\u001B[49m\n\u001B[1;32m    310\u001B[0m \u001B[43m        \u001B[49m\u001B[43mmetric_kwds\u001B[49m\u001B[38;5;241;43m=\u001B[39;49m\u001B[43mmetric_kwds\u001B[49m\u001B[43m,\u001B[49m\n\u001B[1;32m    311\u001B[0m \u001B[43m        \u001B[49m\u001B[43minit\u001B[49m\u001B[38;5;241;43m=\u001B[39;49m\u001B[38;5;124;43m\"\u001B[39;49m\u001B[38;5;124;43mrandom\u001B[39;49m\u001B[38;5;124;43m\"\u001B[39;49m\u001B[43m,\u001B[49m\n\u001B[1;32m    312\u001B[0m \u001B[43m        \u001B[49m\u001B[43mtol\u001B[49m\u001B[38;5;241;43m=\u001B[39;49m\u001B[43mtol\u001B[49m\u001B[43m,\u001B[49m\n\u001B[1;32m    313\u001B[0m \u001B[43m        \u001B[49m\u001B[43mmaxiter\u001B[49m\u001B[38;5;241;43m=\u001B[39;49m\u001B[43mmaxiter\u001B[49m\n\u001B[1;32m    314\u001B[0m \u001B[43m    \u001B[49m\u001B[43m)\u001B[49m\n",
      "File \u001B[0;32m~/study/9sem/python/1/pythonProject/.venv/lib/python3.9/site-packages/umap/spectral.py:521\u001B[0m, in \u001B[0;36m_spectral_layout\u001B[0;34m(data, graph, dim, random_state, metric, metric_kwds, init, method, tol, maxiter)\u001B[0m\n\u001B[1;32m    518\u001B[0m X[:, \u001B[38;5;241m0\u001B[39m] \u001B[38;5;241m=\u001B[39m sqrt_deg \u001B[38;5;241m/\u001B[39m np\u001B[38;5;241m.\u001B[39mlinalg\u001B[38;5;241m.\u001B[39mnorm(sqrt_deg)\n\u001B[1;32m    520\u001B[0m \u001B[38;5;28;01mif\u001B[39;00m method \u001B[38;5;241m==\u001B[39m \u001B[38;5;124m\"\u001B[39m\u001B[38;5;124meigsh\u001B[39m\u001B[38;5;124m\"\u001B[39m:\n\u001B[0;32m--> 521\u001B[0m     eigenvalues, eigenvectors \u001B[38;5;241m=\u001B[39m \u001B[43mscipy\u001B[49m\u001B[38;5;241;43m.\u001B[39;49m\u001B[43msparse\u001B[49m\u001B[38;5;241;43m.\u001B[39;49m\u001B[43mlinalg\u001B[49m\u001B[38;5;241;43m.\u001B[39;49m\u001B[43meigsh\u001B[49m\u001B[43m(\u001B[49m\n\u001B[1;32m    522\u001B[0m \u001B[43m        \u001B[49m\u001B[43mL\u001B[49m\u001B[43m,\u001B[49m\n\u001B[1;32m    523\u001B[0m \u001B[43m        \u001B[49m\u001B[43mk\u001B[49m\u001B[43m,\u001B[49m\n\u001B[1;32m    524\u001B[0m \u001B[43m        \u001B[49m\u001B[43mwhich\u001B[49m\u001B[38;5;241;43m=\u001B[39;49m\u001B[38;5;124;43m\"\u001B[39;49m\u001B[38;5;124;43mSM\u001B[39;49m\u001B[38;5;124;43m\"\u001B[39;49m\u001B[43m,\u001B[49m\n\u001B[1;32m    525\u001B[0m \u001B[43m        \u001B[49m\u001B[43mncv\u001B[49m\u001B[38;5;241;43m=\u001B[39;49m\u001B[43mnum_lanczos_vectors\u001B[49m\u001B[43m,\u001B[49m\n\u001B[1;32m    526\u001B[0m \u001B[43m        \u001B[49m\u001B[43mtol\u001B[49m\u001B[38;5;241;43m=\u001B[39;49m\u001B[43mtol\u001B[49m\u001B[43m \u001B[49m\u001B[38;5;129;43;01mor\u001B[39;49;00m\u001B[43m \u001B[49m\u001B[38;5;241;43m1e-4\u001B[39;49m\u001B[43m,\u001B[49m\n\u001B[1;32m    527\u001B[0m \u001B[43m        \u001B[49m\u001B[43mv0\u001B[49m\u001B[38;5;241;43m=\u001B[39;49m\u001B[43mnp\u001B[49m\u001B[38;5;241;43m.\u001B[39;49m\u001B[43mones\u001B[49m\u001B[43m(\u001B[49m\u001B[43mL\u001B[49m\u001B[38;5;241;43m.\u001B[39;49m\u001B[43mshape\u001B[49m\u001B[43m[\u001B[49m\u001B[38;5;241;43m0\u001B[39;49m\u001B[43m]\u001B[49m\u001B[43m)\u001B[49m\u001B[43m,\u001B[49m\n\u001B[1;32m    528\u001B[0m \u001B[43m        \u001B[49m\u001B[43mmaxiter\u001B[49m\u001B[38;5;241;43m=\u001B[39;49m\u001B[43mmaxiter\u001B[49m\u001B[43m \u001B[49m\u001B[38;5;129;43;01mor\u001B[39;49;00m\u001B[43m \u001B[49m\u001B[43mgraph\u001B[49m\u001B[38;5;241;43m.\u001B[39;49m\u001B[43mshape\u001B[49m\u001B[43m[\u001B[49m\u001B[38;5;241;43m0\u001B[39;49m\u001B[43m]\u001B[49m\u001B[43m \u001B[49m\u001B[38;5;241;43m*\u001B[39;49m\u001B[43m \u001B[49m\u001B[38;5;241;43m5\u001B[39;49m\u001B[43m,\u001B[49m\n\u001B[1;32m    529\u001B[0m \u001B[43m    \u001B[49m\u001B[43m)\u001B[49m\n\u001B[1;32m    530\u001B[0m \u001B[38;5;28;01melif\u001B[39;00m method \u001B[38;5;241m==\u001B[39m \u001B[38;5;124m\"\u001B[39m\u001B[38;5;124mlobpcg\u001B[39m\u001B[38;5;124m\"\u001B[39m:\n\u001B[1;32m    531\u001B[0m     \u001B[38;5;28;01mwith\u001B[39;00m warnings\u001B[38;5;241m.\u001B[39mcatch_warnings():\n",
      "File \u001B[0;32m~/study/9sem/python/1/pythonProject/.venv/lib/python3.9/site-packages/scipy/sparse/linalg/_eigen/arpack/arpack.py:1700\u001B[0m, in \u001B[0;36meigsh\u001B[0;34m(A, k, M, sigma, which, v0, ncv, maxiter, tol, return_eigenvectors, Minv, OPinv, mode)\u001B[0m\n\u001B[1;32m   1698\u001B[0m \u001B[38;5;28;01mwith\u001B[39;00m _ARPACK_LOCK:\n\u001B[1;32m   1699\u001B[0m     \u001B[38;5;28;01mwhile\u001B[39;00m \u001B[38;5;129;01mnot\u001B[39;00m params\u001B[38;5;241m.\u001B[39mconverged:\n\u001B[0;32m-> 1700\u001B[0m         \u001B[43mparams\u001B[49m\u001B[38;5;241;43m.\u001B[39;49m\u001B[43miterate\u001B[49m\u001B[43m(\u001B[49m\u001B[43m)\u001B[49m\n\u001B[1;32m   1702\u001B[0m     \u001B[38;5;28;01mreturn\u001B[39;00m params\u001B[38;5;241m.\u001B[39mextract(return_eigenvectors)\n",
      "File \u001B[0;32m~/study/9sem/python/1/pythonProject/.venv/lib/python3.9/site-packages/scipy/sparse/linalg/_eigen/arpack/arpack.py:549\u001B[0m, in \u001B[0;36m_SymmetricArpackParams.iterate\u001B[0;34m(self)\u001B[0m\n\u001B[1;32m    546\u001B[0m \u001B[38;5;28;01melif\u001B[39;00m \u001B[38;5;28mself\u001B[39m\u001B[38;5;241m.\u001B[39mido \u001B[38;5;241m==\u001B[39m \u001B[38;5;241m1\u001B[39m:\n\u001B[1;32m    547\u001B[0m     \u001B[38;5;66;03m# compute y = Op*x\u001B[39;00m\n\u001B[1;32m    548\u001B[0m     \u001B[38;5;28;01mif\u001B[39;00m \u001B[38;5;28mself\u001B[39m\u001B[38;5;241m.\u001B[39mmode \u001B[38;5;241m==\u001B[39m \u001B[38;5;241m1\u001B[39m:\n\u001B[0;32m--> 549\u001B[0m         \u001B[38;5;28mself\u001B[39m\u001B[38;5;241m.\u001B[39mworkd[yslice] \u001B[38;5;241m=\u001B[39m \u001B[38;5;28;43mself\u001B[39;49m\u001B[38;5;241;43m.\u001B[39;49m\u001B[43mOP\u001B[49m\u001B[43m(\u001B[49m\u001B[38;5;28;43mself\u001B[39;49m\u001B[38;5;241;43m.\u001B[39;49m\u001B[43mworkd\u001B[49m\u001B[43m[\u001B[49m\u001B[43mxslice\u001B[49m\u001B[43m]\u001B[49m\u001B[43m)\u001B[49m\n\u001B[1;32m    550\u001B[0m     \u001B[38;5;28;01melif\u001B[39;00m \u001B[38;5;28mself\u001B[39m\u001B[38;5;241m.\u001B[39mmode \u001B[38;5;241m==\u001B[39m \u001B[38;5;241m2\u001B[39m:\n\u001B[1;32m    551\u001B[0m         \u001B[38;5;28mself\u001B[39m\u001B[38;5;241m.\u001B[39mworkd[xslice] \u001B[38;5;241m=\u001B[39m \u001B[38;5;28mself\u001B[39m\u001B[38;5;241m.\u001B[39mOPb(\u001B[38;5;28mself\u001B[39m\u001B[38;5;241m.\u001B[39mworkd[xslice])\n",
      "File \u001B[0;32m~/study/9sem/python/1/pythonProject/.venv/lib/python3.9/site-packages/scipy/sparse/linalg/_interface.py:236\u001B[0m, in \u001B[0;36mLinearOperator.matvec\u001B[0;34m(self, x)\u001B[0m\n\u001B[1;32m    233\u001B[0m \u001B[38;5;28;01mif\u001B[39;00m x\u001B[38;5;241m.\u001B[39mshape \u001B[38;5;241m!=\u001B[39m (N,) \u001B[38;5;129;01mand\u001B[39;00m x\u001B[38;5;241m.\u001B[39mshape \u001B[38;5;241m!=\u001B[39m (N,\u001B[38;5;241m1\u001B[39m):\n\u001B[1;32m    234\u001B[0m     \u001B[38;5;28;01mraise\u001B[39;00m \u001B[38;5;167;01mValueError\u001B[39;00m(\u001B[38;5;124m'\u001B[39m\u001B[38;5;124mdimension mismatch\u001B[39m\u001B[38;5;124m'\u001B[39m)\n\u001B[0;32m--> 236\u001B[0m y \u001B[38;5;241m=\u001B[39m \u001B[38;5;28;43mself\u001B[39;49m\u001B[38;5;241;43m.\u001B[39;49m\u001B[43m_matvec\u001B[49m\u001B[43m(\u001B[49m\u001B[43mx\u001B[49m\u001B[43m)\u001B[49m\n\u001B[1;32m    238\u001B[0m \u001B[38;5;28;01mif\u001B[39;00m \u001B[38;5;28misinstance\u001B[39m(x, np\u001B[38;5;241m.\u001B[39mmatrix):\n\u001B[1;32m    239\u001B[0m     y \u001B[38;5;241m=\u001B[39m asmatrix(y)\n",
      "File \u001B[0;32m~/study/9sem/python/1/pythonProject/.venv/lib/python3.9/site-packages/scipy/sparse/linalg/_interface.py:203\u001B[0m, in \u001B[0;36mLinearOperator._matvec\u001B[0;34m(self, x)\u001B[0m\n\u001B[1;32m    193\u001B[0m \u001B[38;5;28;01mdef\u001B[39;00m \u001B[38;5;21m_matvec\u001B[39m(\u001B[38;5;28mself\u001B[39m, x):\n\u001B[1;32m    194\u001B[0m \u001B[38;5;250m    \u001B[39m\u001B[38;5;124;03m\"\"\"Default matrix-vector multiplication handler.\u001B[39;00m\n\u001B[1;32m    195\u001B[0m \n\u001B[1;32m    196\u001B[0m \u001B[38;5;124;03m    If self is a linear operator of shape (M, N), then this method will\u001B[39;00m\n\u001B[0;32m   (...)\u001B[0m\n\u001B[1;32m    201\u001B[0m \u001B[38;5;124;03m    will define matrix-vector multiplication as well.\u001B[39;00m\n\u001B[1;32m    202\u001B[0m \u001B[38;5;124;03m    \"\"\"\u001B[39;00m\n\u001B[0;32m--> 203\u001B[0m     \u001B[38;5;28;01mreturn\u001B[39;00m \u001B[38;5;28;43mself\u001B[39;49m\u001B[38;5;241;43m.\u001B[39;49m\u001B[43mmatmat\u001B[49m\u001B[43m(\u001B[49m\u001B[43mx\u001B[49m\u001B[38;5;241;43m.\u001B[39;49m\u001B[43mreshape\u001B[49m\u001B[43m(\u001B[49m\u001B[38;5;241;43m-\u001B[39;49m\u001B[38;5;241;43m1\u001B[39;49m\u001B[43m,\u001B[49m\u001B[43m \u001B[49m\u001B[38;5;241;43m1\u001B[39;49m\u001B[43m)\u001B[49m\u001B[43m)\u001B[49m\n",
      "File \u001B[0;32m~/study/9sem/python/1/pythonProject/.venv/lib/python3.9/site-packages/scipy/sparse/linalg/_interface.py:340\u001B[0m, in \u001B[0;36mLinearOperator.matmat\u001B[0;34m(self, X)\u001B[0m\n\u001B[1;32m    337\u001B[0m     \u001B[38;5;28;01mraise\u001B[39;00m \u001B[38;5;167;01mValueError\u001B[39;00m(\u001B[38;5;124mf\u001B[39m\u001B[38;5;124m'\u001B[39m\u001B[38;5;124mdimension mismatch: \u001B[39m\u001B[38;5;132;01m{\u001B[39;00m\u001B[38;5;28mself\u001B[39m\u001B[38;5;241m.\u001B[39mshape\u001B[38;5;132;01m}\u001B[39;00m\u001B[38;5;124m, \u001B[39m\u001B[38;5;132;01m{\u001B[39;00mX\u001B[38;5;241m.\u001B[39mshape\u001B[38;5;132;01m}\u001B[39;00m\u001B[38;5;124m'\u001B[39m)\n\u001B[1;32m    339\u001B[0m \u001B[38;5;28;01mtry\u001B[39;00m:\n\u001B[0;32m--> 340\u001B[0m     Y \u001B[38;5;241m=\u001B[39m \u001B[38;5;28;43mself\u001B[39;49m\u001B[38;5;241;43m.\u001B[39;49m\u001B[43m_matmat\u001B[49m\u001B[43m(\u001B[49m\u001B[43mX\u001B[49m\u001B[43m)\u001B[49m\n\u001B[1;32m    341\u001B[0m \u001B[38;5;28;01mexcept\u001B[39;00m \u001B[38;5;167;01mException\u001B[39;00m \u001B[38;5;28;01mas\u001B[39;00m e:\n\u001B[1;32m    342\u001B[0m     \u001B[38;5;28;01mif\u001B[39;00m issparse(X) \u001B[38;5;129;01mor\u001B[39;00m is_pydata_spmatrix(X):\n",
      "File \u001B[0;32m~/study/9sem/python/1/pythonProject/.venv/lib/python3.9/site-packages/scipy/sparse/linalg/_interface.py:800\u001B[0m, in \u001B[0;36mMatrixLinearOperator._matmat\u001B[0;34m(self, X)\u001B[0m\n\u001B[1;32m    799\u001B[0m \u001B[38;5;28;01mdef\u001B[39;00m \u001B[38;5;21m_matmat\u001B[39m(\u001B[38;5;28mself\u001B[39m, X):\n\u001B[0;32m--> 800\u001B[0m     \u001B[38;5;28;01mreturn\u001B[39;00m \u001B[38;5;28;43mself\u001B[39;49m\u001B[38;5;241;43m.\u001B[39;49m\u001B[43mA\u001B[49m\u001B[38;5;241;43m.\u001B[39;49m\u001B[43mdot\u001B[49m\u001B[43m(\u001B[49m\u001B[43mX\u001B[49m\u001B[43m)\u001B[49m\n",
      "File \u001B[0;32m~/study/9sem/python/1/pythonProject/.venv/lib/python3.9/site-packages/scipy/sparse/_base.py:474\u001B[0m, in \u001B[0;36m_spbase.dot\u001B[0;34m(self, other)\u001B[0m\n\u001B[1;32m    472\u001B[0m     \u001B[38;5;28;01mreturn\u001B[39;00m \u001B[38;5;28mself\u001B[39m \u001B[38;5;241m*\u001B[39m other\n\u001B[1;32m    473\u001B[0m \u001B[38;5;28;01melse\u001B[39;00m:\n\u001B[0;32m--> 474\u001B[0m     \u001B[38;5;28;01mreturn\u001B[39;00m \u001B[38;5;28;43mself\u001B[39;49m\u001B[43m \u001B[49m\u001B[38;5;241;43m@\u001B[39;49m\u001B[43m \u001B[49m\u001B[43mother\u001B[49m\n",
      "File \u001B[0;32m~/study/9sem/python/1/pythonProject/.venv/lib/python3.9/site-packages/scipy/sparse/_base.py:695\u001B[0m, in \u001B[0;36m_spbase.__matmul__\u001B[0;34m(self, other)\u001B[0m\n\u001B[1;32m    692\u001B[0m \u001B[38;5;28;01mif\u001B[39;00m isscalarlike(other):\n\u001B[1;32m    693\u001B[0m     \u001B[38;5;28;01mraise\u001B[39;00m \u001B[38;5;167;01mValueError\u001B[39;00m(\u001B[38;5;124m\"\u001B[39m\u001B[38;5;124mScalar operands are not allowed, \u001B[39m\u001B[38;5;124m\"\u001B[39m\n\u001B[1;32m    694\u001B[0m                      \u001B[38;5;124m\"\u001B[39m\u001B[38;5;124muse \u001B[39m\u001B[38;5;124m'\u001B[39m\u001B[38;5;124m*\u001B[39m\u001B[38;5;124m'\u001B[39m\u001B[38;5;124m instead\u001B[39m\u001B[38;5;124m\"\u001B[39m)\n\u001B[0;32m--> 695\u001B[0m \u001B[38;5;28;01mreturn\u001B[39;00m \u001B[38;5;28;43mself\u001B[39;49m\u001B[38;5;241;43m.\u001B[39;49m\u001B[43m_matmul_dispatch\u001B[49m\u001B[43m(\u001B[49m\u001B[43mother\u001B[49m\u001B[43m)\u001B[49m\n",
      "File \u001B[0;32m~/study/9sem/python/1/pythonProject/.venv/lib/python3.9/site-packages/scipy/sparse/_base.py:590\u001B[0m, in \u001B[0;36m_spbase._matmul_dispatch\u001B[0;34m(self, other)\u001B[0m\n\u001B[1;32m    588\u001B[0m     \u001B[38;5;28;01mreturn\u001B[39;00m \u001B[38;5;28mself\u001B[39m\u001B[38;5;241m.\u001B[39m_matmul_vector(other)\n\u001B[1;32m    589\u001B[0m \u001B[38;5;28;01melif\u001B[39;00m other\u001B[38;5;241m.\u001B[39mshape \u001B[38;5;241m==\u001B[39m (N, \u001B[38;5;241m1\u001B[39m):\n\u001B[0;32m--> 590\u001B[0m     result \u001B[38;5;241m=\u001B[39m \u001B[38;5;28;43mself\u001B[39;49m\u001B[38;5;241;43m.\u001B[39;49m\u001B[43m_matmul_vector\u001B[49m\u001B[43m(\u001B[49m\u001B[43mother\u001B[49m\u001B[38;5;241;43m.\u001B[39;49m\u001B[43mravel\u001B[49m\u001B[43m(\u001B[49m\u001B[43m)\u001B[49m\u001B[43m)\u001B[49m\n\u001B[1;32m    591\u001B[0m     \u001B[38;5;28;01mif\u001B[39;00m \u001B[38;5;28mself\u001B[39m\u001B[38;5;241m.\u001B[39mndim \u001B[38;5;241m==\u001B[39m \u001B[38;5;241m1\u001B[39m:\n\u001B[1;32m    592\u001B[0m         \u001B[38;5;28;01mreturn\u001B[39;00m result\n",
      "File \u001B[0;32m~/study/9sem/python/1/pythonProject/.venv/lib/python3.9/site-packages/scipy/sparse/_compressed.py:491\u001B[0m, in \u001B[0;36m_cs_matrix._matmul_vector\u001B[0;34m(self, other)\u001B[0m\n\u001B[1;32m    489\u001B[0m \u001B[38;5;66;03m# csr_matvec or csc_matvec\u001B[39;00m\n\u001B[1;32m    490\u001B[0m fn \u001B[38;5;241m=\u001B[39m \u001B[38;5;28mgetattr\u001B[39m(_sparsetools, \u001B[38;5;28mself\u001B[39m\u001B[38;5;241m.\u001B[39mformat \u001B[38;5;241m+\u001B[39m \u001B[38;5;124m'\u001B[39m\u001B[38;5;124m_matvec\u001B[39m\u001B[38;5;124m'\u001B[39m)\n\u001B[0;32m--> 491\u001B[0m \u001B[43mfn\u001B[49m\u001B[43m(\u001B[49m\u001B[43mM\u001B[49m\u001B[43m,\u001B[49m\u001B[43m \u001B[49m\u001B[43mN\u001B[49m\u001B[43m,\u001B[49m\u001B[43m \u001B[49m\u001B[38;5;28;43mself\u001B[39;49m\u001B[38;5;241;43m.\u001B[39;49m\u001B[43mindptr\u001B[49m\u001B[43m,\u001B[49m\u001B[43m \u001B[49m\u001B[38;5;28;43mself\u001B[39;49m\u001B[38;5;241;43m.\u001B[39;49m\u001B[43mindices\u001B[49m\u001B[43m,\u001B[49m\u001B[43m \u001B[49m\u001B[38;5;28;43mself\u001B[39;49m\u001B[38;5;241;43m.\u001B[39;49m\u001B[43mdata\u001B[49m\u001B[43m,\u001B[49m\u001B[43m \u001B[49m\u001B[43mother\u001B[49m\u001B[43m,\u001B[49m\u001B[43m \u001B[49m\u001B[43mresult\u001B[49m\u001B[43m)\u001B[49m\n\u001B[1;32m    493\u001B[0m \u001B[38;5;28;01mreturn\u001B[39;00m result\n",
      "\u001B[0;31mKeyboardInterrupt\u001B[0m: "
     ]
    }
   ],
   "execution_count": 1
  },
  {
   "metadata": {},
   "cell_type": "code",
   "outputs": [],
   "execution_count": null,
   "source": "",
   "id": "5e01ff6a92660e8a"
  },
  {
   "metadata": {},
   "cell_type": "code",
   "outputs": [],
   "execution_count": null,
   "source": [
    "from sklearn.model_selection import train_test_split\n",
    "from sklearn.preprocessing import OneHotEncoder\n",
    "# Импортируем необходимые библиотеки\n",
    "import pandas as pd\n",
    "import numpy as np\n",
    "from sklearn.manifold import TSNE\n",
    "import matplotlib.pyplot as plt\n",
    "from umap import umap_ as UMAP\n",
    "from sklearn.preprocessing import StandardScaler\n",
    "from sklearn.utils import gen_batches\n",
    "\n",
    "# Загрузка данных из CSV файла\n",
    "data = pd.read_csv('mammoth.csv')  # Укажите путь к вашему CSV файлу\n",
    "\n",
    "X = data[['x', 'y', 'z']]\n",
    "print(1)\n",
    "# Преобразование категориальных признаков в числовые с помощью One-Hot Encoding\n",
    "encoder = OneHotEncoder(sparse_output=False)\n",
    "X_encoded = encoder.fit_transform(X)\n",
    "print(2)\n",
    "\n",
    "batch_size = 10000\n",
    "scaler = StandardScaler()\n",
    "\n",
    "# Применяем partial_fit для поэтапной обработки\n",
    "for batch in gen_batches(len(data), batch_size):\n",
    "    scaler.partial_fit(data[batch])\n",
    "print(2.1)\n",
    "\n",
    "# После поэтапной обработки масштабируем данные\n",
    "X_scaled = scaler.transform(data)\n",
    "\n",
    "print(3)\n",
    "\n",
    "X_sampled, _ = train_test_split(X, test_size=0.5, random_state=42)\n",
    "\n",
    "# Применяем UMAP к уменьшенному набору данных\n",
    "reducer = UMAP(n_components=2, random_state=42)\n",
    "X_umap = reducer.fit_transform(X_sampled)\n",
    "\n",
    "# reducer = UMAP.UMAP(n_neighbors=15, min_dist=0.1)\n",
    "# X_umap = reducer.fit_transform(X_scaled)\n",
    "print(4)\n",
    "\n",
    "\n",
    "# Шаг 3: Визуализация результатов\n",
    "plt.figure(figsize=(8, 6))\n",
    "plt.scatter(X_umap[:, 0], X_umap[:, 1], c='blue', label='Data points')  # Все точки будут синими\n",
    "plt.title('t-SNE Visualization of 3D Data to 2D')\n",
    "plt.xlabel('t-SNE Component 1')\n",
    "plt.ylabel('t-SNE Component 2')\n",
    "plt.legend()\n",
    "plt.show()\n",
    "# Сэмплирование 50% данных\n"
   ],
   "id": "923b91825a4c752"
  }
 ],
 "metadata": {
  "kernelspec": {
   "display_name": "Python 3",
   "language": "python",
   "name": "python3"
  },
  "language_info": {
   "codemirror_mode": {
    "name": "ipython",
    "version": 2
   },
   "file_extension": ".py",
   "mimetype": "text/x-python",
   "name": "python",
   "nbconvert_exporter": "python",
   "pygments_lexer": "ipython2",
   "version": "2.7.6"
  }
 },
 "nbformat": 4,
 "nbformat_minor": 5
}
